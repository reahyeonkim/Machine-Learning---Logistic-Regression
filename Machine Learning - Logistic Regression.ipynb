{
 "cells": [
  {
   "cell_type": "markdown",
   "id": "d60ac5ef",
   "metadata": {},
   "source": [
    "# 로지스틱 회귀"
   ]
  },
  {
   "cell_type": "code",
   "execution_count": 1,
   "id": "64ea0c3b",
   "metadata": {},
   "outputs": [],
   "source": [
    "import numpy as np\n",
    "import matplotlib.pyplot as plt"
   ]
  },
  {
   "cell_type": "code",
   "execution_count": 3,
   "id": "691858f3",
   "metadata": {},
   "outputs": [
    {
     "data": {
      "text/plain": [
       "dict_keys(['data', 'target', 'frame', 'target_names', 'DESCR', 'feature_names', 'filename'])"
      ]
     },
     "execution_count": 3,
     "metadata": {},
     "output_type": "execute_result"
    }
   ],
   "source": [
    "from sklearn.datasets import load_iris\n",
    "\n",
    "iris = load_iris()\n",
    "iris.keys()"
   ]
  },
  {
   "cell_type": "code",
   "execution_count": 10,
   "id": "c2be5923",
   "metadata": {},
   "outputs": [],
   "source": [
    "X = iris.data[:, 3:] # 꽃잎 폭\n",
    "y = (iris.target==2).astype(np.int32) # Virginica 이면 1, 아니면 0"
   ]
  },
  {
   "cell_type": "code",
   "execution_count": 11,
   "id": "092c8f0e",
   "metadata": {},
   "outputs": [
    {
     "data": {
      "text/plain": [
       "LogisticRegression(random_state=42)"
      ]
     },
     "execution_count": 11,
     "metadata": {},
     "output_type": "execute_result"
    }
   ],
   "source": [
    "from sklearn.linear_model import LogisticRegression\n",
    "\n",
    "log_reg = LogisticRegression(random_state=42)\n",
    "log_reg.fit(X, y)"
   ]
  },
  {
   "cell_type": "code",
   "execution_count": 15,
   "id": "c0d7ce50",
   "metadata": {},
   "outputs": [],
   "source": [
    "X_new = np.linspace(0, 3, 1000).reshape(-1, 1)\n",
    "y_prob = log_reg.predict_proba(X_new)"
   ]
  },
  {
   "cell_type": "code",
   "execution_count": 22,
   "id": "c0572496",
   "metadata": {},
   "outputs": [
    {
     "data": {
      "text/plain": [
       "0.9992402006127165"
      ]
     },
     "execution_count": 22,
     "metadata": {},
     "output_type": "execute_result"
    }
   ],
   "source": [
    "print(y_prob[1][0]) # virginica 가 아닐(0) 확률\n",
    "print(y_prob[1][1]) # virginica 일(1) 확률\n",
    "print(y_prob[1][0] + y_prob[1][1])"
   ]
  },
  {
   "cell_type": "code",
   "execution_count": 51,
   "id": "8af741e6",
   "metadata": {},
   "outputs": [
    {
     "name": "stdout",
     "output_type": "stream",
     "text": [
      "[1.66066066]\n"
     ]
    },
    {
     "data": {
      "image/png": "[encoded data removed]",
      "text/plain": [
       "<Figure size 576x216 with 1 Axes>"
      ]
     },
     "metadata": {
      "needs_background": "light"
     },
     "output_type": "display_data"
    }
   ],
   "source": [
    "decision_boundary = X_new[y_prob[:, 1] > 0.5][0]\n",
    "print(decision_boundary)\n",
    "plt.figure(figsize=(8, 3))\n",
    "plt.plot([decision_boundary, decision_boundary], [0, 1], \"k:\")\n",
    "plt.plot(X_new, y_prob[:, 0], \"b--\", label=\"Not Iris-Virginica\") # virginica 아닐(0)  확률\n",
    "plt.plot(X_new, y_prob[:, 1], \"g-\", label=\"Iris-Virginica\") # virginica 일(1) 확률\n",
    "plt.legend(loc=\"best\")\n",
    "plt.show()"
   ]
  },
  {
   "cell_type": "code",
   "execution_count": 52,
   "id": "652382de",
   "metadata": {},
   "outputs": [
    {
     "data": {
      "text/plain": [
       "array([1, 0])"
      ]
     },
     "execution_count": 52,
     "metadata": {},
     "output_type": "execute_result"
    }
   ],
   "source": [
    "log_reg.predict([[1.7], [1.5]])"
   ]
  },
  {
   "cell_type": "markdown",
   "id": "858b350a",
   "metadata": {},
   "source": [
    "# 소프트 맥스 회귀"
   ]
  },
  {
   "cell_type": "code",
   "execution_count": 53,
   "id": "a3f7beef",
   "metadata": {},
   "outputs": [],
   "source": [
    "X = iris.data[:, (2,3)] # 꽃잎 길이, 꽃잎 폭\n",
    "y = iris.target"
   ]
  },
  {
   "cell_type": "code",
   "execution_count": 55,
   "id": "03d1159f",
   "metadata": {},
   "outputs": [
    {
     "data": {
      "text/plain": [
       "LogisticRegression(multi_class='multinomial', random_state=42)"
      ]
     },
     "execution_count": 55,
     "metadata": {},
     "output_type": "execute_result"
    }
   ],
   "source": [
    "softmax_reg = LogisticRegression(multi_class=\"multinomial\", random_state=42)\n",
    "softmax_reg.fit(X, y)"
   ]
  },
  {
   "cell_type": "code",
   "execution_count": 57,
   "id": "283194a4",
   "metadata": {},
   "outputs": [
    {
     "data": {
      "text/plain": [
       "array([2])"
      ]
     },
     "execution_count": 57,
     "metadata": {},
     "output_type": "execute_result"
    }
   ],
   "source": [
    "softmax_reg.predict([[5, 2]]) # virginica 품종으로 예측"
   ]
  },
  {
   "cell_type": "code",
   "execution_count": 62,
   "id": "60578b96",
   "metadata": {},
   "outputs": [],
   "source": [
    "prediction_prob = softmax_reg.predict_proba([X[0]])"
   ]
  },
  {
   "cell_type": "code",
   "execution_count": 64,
   "id": "3945b1b2",
   "metadata": {},
   "outputs": [
    {
     "data": {
      "text/plain": [
       "array([[9.79830583e-01, 2.01693853e-02, 3.14621610e-08]])"
      ]
     },
     "execution_count": 64,
     "metadata": {},
     "output_type": "execute_result"
    }
   ],
   "source": [
    "prediction_prob"
   ]
  },
  {
   "cell_type": "code",
   "execution_count": 65,
   "id": "ff3a5fd3",
   "metadata": {},
   "outputs": [
    {
     "data": {
      "text/plain": [
       "(0.9798305832828496, 0.02016938525498948, 3.146216097021159e-08)"
      ]
     },
     "execution_count": 65,
     "metadata": {},
     "output_type": "execute_result"
    }
   ],
   "source": [
    "prediction_prob[0][0], prediction_prob[0][1], prediction_prob[0][2]"
   ]
  },
  {
   "cell_type": "code",
   "execution_count": 66,
   "id": "0c6df9eb",
   "metadata": {},
   "outputs": [
    {
     "data": {
      "text/plain": [
       "array([0])"
      ]
     },
     "execution_count": 66,
     "metadata": {},
     "output_type": "execute_result"
    }
   ],
   "source": [
    "softmax_reg.predict([X[0]])"
   ]
  },
  {
   "cell_type": "code",
   "execution_count": 73,
   "id": "340b9d01",
   "metadata": {},
   "outputs": [
    {
     "data": {
      "text/plain": [
       "array([[-2.74866104, -1.16890756],\n",
       "       [ 0.08356447, -0.90803047],\n",
       "       [ 2.66509657,  2.07693804]])"
      ]
     },
     "execution_count": 73,
     "metadata": {},
     "output_type": "execute_result"
    }
   ],
   "source": [
    "softmax_reg.coef_"
   ]
  },
  {
   "cell_type": "code",
   "execution_count": null,
   "id": "53b35cd3",
   "metadata": {},
   "outputs": [],
   "source": [
    "# (참고) OVA(OVR) 이진 분류기 여러개를 학습시킬 때"
   ]
  },
  {
   "cell_type": "code",
   "execution_count": 75,
   "id": "8a984ec0",
   "metadata": {},
   "outputs": [
    {
     "data": {
      "text/plain": [
       "LogisticRegression(multi_class='ovr', random_state=42)"
      ]
     },
     "execution_count": 75,
     "metadata": {},
     "output_type": "execute_result"
    }
   ],
   "source": [
    "softmax_reg2 = LogisticRegression(multi_class=\"ovr\", random_state=42)\n",
    "softmax_reg2.fit(X, y)"
   ]
  },
  {
   "cell_type": "code",
   "execution_count": 76,
   "id": "015621c6",
   "metadata": {},
   "outputs": [
    {
     "data": {
      "text/plain": [
       "array([0])"
      ]
     },
     "execution_count": 76,
     "metadata": {},
     "output_type": "execute_result"
    }
   ],
   "source": [
    "softmax_reg2.predict([X[0]])"
   ]
  },
  {
   "cell_type": "code",
   "execution_count": 77,
   "id": "b6fa7e8e",
   "metadata": {},
   "outputs": [
    {
     "data": {
      "text/plain": [
       "array([[-2.59326344, -1.07701465],\n",
       "       [ 0.8860989 , -1.54144389],\n",
       "       [ 2.77762524,  2.38552012]])"
      ]
     },
     "execution_count": 77,
     "metadata": {},
     "output_type": "execute_result"
    }
   ],
   "source": [
    "softmax_reg2.coef_"
   ]
  },
  {
   "cell_type": "code",
   "execution_count": null,
   "id": "42c425f3",
   "metadata": {},
   "outputs": [],
   "source": []
  }
 ],
 "metadata": {
  "kernelspec": {
   "display_name": "Python 3 (ipykernel)",
   "language": "python",
   "name": "python3"
  },
  "language_info": {
   "codemirror_mode": {
    "name": "ipython",
    "version": 3
   },
   "file_extension": ".py",
   "mimetype": "text/x-python",
   "name": "python",
   "nbconvert_exporter": "python",
   "pygments_lexer": "ipython3",
   "version": "3.9.7"
  }
 },
 "nbformat": 4,
 "nbformat_minor": 5
}
